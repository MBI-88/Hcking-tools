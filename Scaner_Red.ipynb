{
 "metadata": {
  "language_info": {
   "codemirror_mode": {
    "name": "ipython",
    "version": 3
   },
   "file_extension": ".py",
   "mimetype": "text/x-python",
   "name": "python",
   "nbconvert_exporter": "python",
   "pygments_lexer": "ipython3",
   "version": "3.7.9-final"
  },
  "orig_nbformat": 2,
  "kernelspec": {
   "name": "python3",
   "display_name": "Python 3"
  }
 },
 "nbformat": 4,
 "nbformat_minor": 2,
 "cells": [
  {
   "cell_type": "code",
   "execution_count": 1,
   "metadata": {},
   "outputs": [],
   "source": [
    "import socket as soc\n",
    "import  sys"
   ]
  },
  {
   "cell_type": "code",
   "execution_count": 5,
   "metadata": {},
   "outputs": [
    {
     "output_type": "stream",
     "name": "stdout",
     "text": [
      "10.86.97.1:21 Down\n",
      "10.86.97.1:22 Down\n",
      "10.86.97.1:25 Down\n",
      "10.86.97.1:80 Down\n",
      "10.86.97.1:8080 Down\n",
      "10.86.97.1:443 Down\n",
      "10.86.97.1:4443 Down\n",
      "10.86.97.2:21 Down\n",
      "10.86.97.2:22 Up\n",
      "10.86.97.2:25 Down\n",
      "10.86.97.2:80 Up\n",
      "10.86.97.2:8080 Down\n",
      "10.86.97.2:443 Up\n",
      "10.86.97.2:4443 Down\n"
     ]
    }
   ],
   "source": [
    "def scann(ip,port):\n",
    "    scan=soc.socket(soc.AF_INET,soc.SOCK_STREAM)\n",
    "    soc.setdefaulttimeout(1)\n",
    "    request=scan.connect_ex((ip,port))\n",
    "    scan.close()\n",
    "    return request\n",
    "\n",
    "def  Main():\n",
    "    port=[21,22,25,80,8080,443,4443]\n",
    "    entrada=input('Rango de ip :__')\n",
    "    pos=entrada.find('/')\n",
    "    ip=entrada[:pos]\n",
    "    valor=int(entrada[pos+1:])\n",
    "    if ip.count('.')==3:\n",
    "        pass\n",
    "    else:\n",
    "        print('Error en la ip debe ser xx.xx.xx./xx')\n",
    "        sys.exit()\n",
    "    try:\n",
    "        for i in range(1,valor):\n",
    "            ipx=ip+str(i)\n",
    "            for x in port:\n",
    "                salida=scann(ipx,x)\n",
    "                if salida==0:\n",
    "                    print(ipx+':'+str(x),'Up')\n",
    "                else:\n",
    "                    print(ipx+':'+str(x),'Down')\n",
    "    except KeyboardInterrupt:\n",
    "        print('[*] Escaner  parado [*]')\n",
    "        sys.exit(0)\n",
    "    \n",
    "\n",
    "if __name__=='__main__':\n",
    "    Main()"
   ]
  },
  {
   "cell_type": "code",
   "execution_count": null,
   "metadata": {},
   "outputs": [],
   "source": []
  }
 ]
}